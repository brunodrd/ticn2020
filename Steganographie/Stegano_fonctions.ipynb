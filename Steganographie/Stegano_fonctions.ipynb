{
 "cells": [
  {
   "cell_type": "code",
   "execution_count": 1,
   "metadata": {},
   "outputs": [],
   "source": [
    "from PIL import Image"
   ]
  },
  {
   "cell_type": "code",
   "execution_count": 2,
   "metadata": {},
   "outputs": [],
   "source": [
    "def poids_fort(n1, n2):\n",
    "    \"\"\"\n",
    "    Retourne un entier naturel strictement inférieur à 256, composé des 4 bits de poids fort de \n",
    "    n1 (partie haute) et des 4 bits de poids fort de n2 (partie basse);\n",
    "    n1, n2: entiers naturels strictement inférieurs à 256\n",
    "    \"\"\"\n",
    "    \n",
    "    return ((n1 >> 4) << 4) | (n2 >> 4)"
   ]
  },
  {
   "cell_type": "code",
   "execution_count": 3,
   "metadata": {},
   "outputs": [
    {
     "data": {
      "text/plain": [
       "155"
      ]
     },
     "execution_count": 3,
     "metadata": {},
     "output_type": "execute_result"
    }
   ],
   "source": [
    "#Exemple d'utilisation\n",
    "poids_fort(157, 183)"
   ]
  },
  {
   "cell_type": "code",
   "execution_count": 24,
   "metadata": {},
   "outputs": [],
   "source": [
    "def decompose(n):\n",
    "    \"\"\"\n",
    "    Retourne un tuple (n1, n2) (couple d'entiers naturels strictement inférieurs à 256) dont \n",
    "    les composantes correspondent à un entier naturel sur 8 bits formés de la manière suivante:\n",
    "    - n1 est composé des 4 bits de poids fort de n en partie haute et '0000' en partie basse;\n",
    "    - n2 est composé des 4 bits de poids faible de n en partie haute et '0000' en partie basse;\n",
    "    \"\"\"\n",
    "    n1 = (n >> 4) << 4\n",
    "    n2 = (n << 4) & 0xFF\n",
    "    return (n1, n2)"
   ]
  },
  {
   "cell_type": "code",
   "execution_count": 26,
   "metadata": {},
   "outputs": [],
   "source": [
    "def calcul_dimensions(im1, im2):\n",
    "    \"\"\"\n",
    "    \"\"\"\n",
    "    w1, h1 = im1.size\n",
    "    w2, h2 = im2.size\n",
    "    return min(w1, w2), min(h1, h2)\n",
    "    "
   ]
  },
  {
   "cell_type": "code",
   "execution_count": 38,
   "metadata": {},
   "outputs": [],
   "source": [
    "def retailler_image(fichier1, fichier2):\n",
    "    \"\"\"\n",
    "    Redimensionne deux images issues de fichier1 et fichier2 et les sauvegarde \n",
    "    sous les noms de tmp1.jpg et tmp2.jpg\n",
    "    \"\"\"\n",
    "    images = (Image.open(fichier1), Image.open(fichier2))\n",
    "    w, h = calcul_dimensions(*images)\n",
    "    i = 1\n",
    "    for image in images:\n",
    "        tmp = image.resize((w, h))\n",
    "        tmp.save('tmp' + str(i) + '.jpg')\n",
    "        i += 1\n",
    "        image.close()\n",
    "    "
   ]
  },
  {
   "cell_type": "code",
   "execution_count": 39,
   "metadata": {},
   "outputs": [],
   "source": [
    "#Exemple d'utilisation\n",
    "#retailler_image('mountain.jpg', 'confidential.jpg')"
   ]
  },
  {
   "cell_type": "code",
   "execution_count": 40,
   "metadata": {},
   "outputs": [],
   "source": [
    "def codage_image(f1, f2):\n",
    "    \"\"\"\n",
    "    Code une image nommée image_finale.tif en prenant les 4 bits de poids forts de f1 et\n",
    "    les 4 bits de poids forts de f2\n",
    "    \"\"\"\n",
    "    im1 = Image.open(f1)\n",
    "    im2 = Image.open(f2)\n",
    "    w, h = im1.size\n",
    "    im_finale = Image.new('RGB', (w, h))\n",
    "    for j in range(h):\n",
    "        for i in range(w):\n",
    "            r1, v1, b1 = im1.getpixel((i,j))\n",
    "            r2, v2, b2 = im2.getpixel((i,j))\n",
    "            rf, vf, bf = poids_fort(r1, r2), poids_fort(v1, v2), poids_fort(b1, b2)\n",
    "            im_finale.putpixel((i, j), (rf, vf, bf))\n",
    "    im_finale.save('image_finale.tif')\n",
    "    im1.close()\n",
    "    im2.close()\n",
    "    im_finale.close()\n",
    "            "
   ]
  },
  {
   "cell_type": "code",
   "execution_count": 41,
   "metadata": {},
   "outputs": [],
   "source": [
    "#exemple d'utilisation\n",
    "#codage_image('tmp1.jpg', 'tmp2.jpg')"
   ]
  },
  {
   "cell_type": "code",
   "execution_count": 42,
   "metadata": {},
   "outputs": [],
   "source": [
    "def decodage(f):\n",
    "    im = Image.open(f)\n",
    "    w, h = im.size\n",
    "    im1 = Image.new('RGB',(w,h))\n",
    "    im2 = Image.new('RGB',(w,h))\n",
    "    for j in range(h):\n",
    "        for i in range(w):\n",
    "            r, v, b = im.getpixel((i,j))\n",
    "            r1, r2 = decompose(r)\n",
    "            v1, v2 = decompose(v)\n",
    "            b1, b2 = decompose(b)\n",
    "            im1.putpixel((i, j),(r1, v1, b1))\n",
    "            im2.putpixel((i, j),(r2, v2, b2))\n",
    "    im1.save('res1.tif')\n",
    "    im2.save('res2.tif')\n",
    "    im.close()\n",
    "    im1.close()\n",
    "    im2.close()"
   ]
  },
  {
   "cell_type": "code",
   "execution_count": 43,
   "metadata": {},
   "outputs": [],
   "source": [
    "decodage('image_finale.tif')"
   ]
  },
  {
   "cell_type": "code",
   "execution_count": null,
   "metadata": {},
   "outputs": [],
   "source": []
  }
 ],
 "metadata": {
  "kernelspec": {
   "display_name": "Python 3",
   "language": "python",
   "name": "python3"
  },
  "language_info": {
   "codemirror_mode": {
    "name": "ipython",
    "version": 3
   },
   "file_extension": ".py",
   "mimetype": "text/x-python",
   "name": "python",
   "nbconvert_exporter": "python",
   "pygments_lexer": "ipython3",
   "version": "3.6.9"
  },
  "latex_envs": {
   "LaTeX_envs_menu_present": true,
   "autoclose": false,
   "autocomplete": true,
   "bibliofile": "biblio.bib",
   "cite_by": "apalike",
   "current_citInitial": 1,
   "eqLabelWithNumbers": true,
   "eqNumInitial": 1,
   "hotkeys": {
    "equation": "Ctrl-E",
    "itemize": "Ctrl-I"
   },
   "labels_anchors": false,
   "latex_user_defs": false,
   "report_style_numbering": false,
   "user_envs_cfg": false
  }
 },
 "nbformat": 4,
 "nbformat_minor": 2
}
