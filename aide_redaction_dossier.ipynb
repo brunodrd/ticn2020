{
 "cells": [
  {
   "cell_type": "markdown",
   "metadata": {},
   "source": [
    "# Projet TRACEUR GPS\n",
    "---"
   ]
  },
  {
   "cell_type": "markdown",
   "metadata": {},
   "source": [
    "# Un plan possible du dossier élève\n",
    "Le dossier de l'élève (*individuel*) doit obligatoirement faire apparaître les éléments suivants:  \n",
    "1. Le problème à résoudre (dans votre cas: comment visualiser les déplacements d'une *ou d'un groupe* de personne(s) sur une carte ?);  \n",
    "2. Quelle solution a été choisie pour résoudre le problème précédent ? (dans votre cas un capteur GPS associé à un nano ordinateur *un Raspberry Pi3* et programmation en Python);  \n",
    "3. La décomposition du problème à résoudre et la répartition des tâches (dans votre cas en trois parties: acquisition des données GPS par Benjamin, traitement des données GPS par Chloé, visualisation des données par Stacy);  \n",
    "4. Déroulement du projet: chacun des trois membres du groupe expose son travail personnel, explique ce qu'il (elle) a fait, en incluant le travail de documentation (*ne pas oublier d'indiquer les sources*);  \n",
    "5. Analyse critique des résultats obtenus (ou pas!) ... il faut rester honnête;  \n",
    "6. Conclusion (sur le travail réalisé en projet et globalement sur le travail accompli au cours des deux années d'option ICN)"
   ]
  },
  {
   "cell_type": "markdown",
   "metadata": {},
   "source": [
    "# Structure du dossier\n",
    "Le dossier est individuel et fait au maximum 10 pages, hors annexe. Utilisez une police de caractères courante (Arial, Times, etc) et de taille **raisonnable** (12 typiquement). Il est à remettre au professeur encadrant une semaine avant le passage à l'oral.  \n",
    "\n",
    "Les parties 1., 2. et 3. du plan ci-dessus peuvent (*et c'est même souhaitable*) être rédigées **en commun** par les trois membres du groupes. En revanche les parties 4., 5. et 6. sont personnelles et donnent lieu à une rédaction individuelle.  \n"
   ]
  },
  {
   "cell_type": "markdown",
   "metadata": {},
   "source": [
    "# Partie personnelle 1\n",
    "Elève concerné: Benjamin  \n",
    "Travail personnel:  \n",
    "* découverte du Raspberry Pi, démarrage du système, langage de ligne de commande;  \n",
    "* documentation sur le capteur GPS; mise en oeuvre sur le RPi;\n",
    "* lancement d'un script python destiné à traiter les trames GGA issues du capteur\n",
    "* enregistrement des trames lors d'un déplacement dans la cours du lycée (voir fichier csv)."
   ]
  },
  {
   "cell_type": "markdown",
   "metadata": {},
   "source": [
    "# Partie personnelle 2\n",
    "Elève concernée: Chloé  \n",
    "\n",
    "Travail personnel:   \n",
    "* traitement d'un fichier de données csv issu du capteur (voir travail Partie 1);  \n",
    "* expliquer :  \n",
    "  * pourquoi traiter (*données manquantes, format de la latitude et de la longitude incompatibles avec les entrées de la librairie folium qui sera utilisée pour afficher les données*);\n",
    "  * comment traiter (voir la fonction `convert_decimal` dans le notebook);\n",
    "* analyse critique des résultats obtenus: à partir d'un affichage exemple, conclure sur la précision."
   ]
  },
  {
   "cell_type": "markdown",
   "metadata": {},
   "source": [
    "# Partie personnelle 3\n",
    "Elève concernée: Stacy  \n",
    "\n",
    "Travail personnel: \n",
    "* découverte de la librairie folium:  \n",
    "  * documentation;\n",
    "  * comment l'utiliser pour afficher un point (latitude et longitude données)?\n",
    "* Généralisation: comment afficher le trajet (*dans la cours*) correspondant aux données relevées par le capteur GPS;\n",
    "* analyse critique: difficile car le projet n'a pas été mené à son terme"
   ]
  },
  {
   "cell_type": "code",
   "execution_count": null,
   "metadata": {},
   "outputs": [],
   "source": []
  }
 ],
 "metadata": {
  "kernelspec": {
   "display_name": "Python 3",
   "language": "python",
   "name": "python3"
  },
  "language_info": {
   "codemirror_mode": {
    "name": "ipython",
    "version": 3
   },
   "file_extension": ".py",
   "mimetype": "text/x-python",
   "name": "python",
   "nbconvert_exporter": "python",
   "pygments_lexer": "ipython3",
   "version": "3.6.10"
  },
  "latex_envs": {
   "LaTeX_envs_menu_present": true,
   "autoclose": false,
   "autocomplete": true,
   "bibliofile": "biblio.bib",
   "cite_by": "apalike",
   "current_citInitial": 1,
   "eqLabelWithNumbers": true,
   "eqNumInitial": 1,
   "hotkeys": {
    "equation": "Ctrl-E",
    "itemize": "Ctrl-I"
   },
   "labels_anchors": false,
   "latex_user_defs": false,
   "report_style_numbering": false,
   "user_envs_cfg": false
  }
 },
 "nbformat": 4,
 "nbformat_minor": 2
}
